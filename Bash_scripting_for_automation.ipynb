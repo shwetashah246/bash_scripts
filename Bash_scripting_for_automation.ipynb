{
  "nbformat": 4,
  "nbformat_minor": 0,
  "metadata": {
    "colab": {
      "provenance": [],
      "authorship_tag": "ABX9TyNQdwyTZoga9isWEX5/6N6+",
      "include_colab_link": true
    },
    "kernelspec": {
      "name": "python3",
      "display_name": "Python 3"
    },
    "language_info": {
      "name": "python"
    }
  },
  "cells": [
    {
      "cell_type": "markdown",
      "metadata": {
        "id": "view-in-github",
        "colab_type": "text"
      },
      "source": [
        "<a href=\"https://colab.research.google.com/github/shwetashah246/bash_scripts/blob/main/Bash_scripting_for_automation.ipynb\" target=\"_parent\"><img src=\"https://colab.research.google.com/assets/colab-badge.svg\" alt=\"Open In Colab\"/></a>"
      ]
    },
    {
      "cell_type": "code",
      "execution_count": null,
      "metadata": {
        "collapsed": true,
        "id": "g7skCmX92AwU"
      },
      "outputs": [],
      "source": [
        "!ls -l /content/Basics/\n",
        "!chmod +x /content/Basics/*\n",
        "!sed -i 's/\\r$//' /content/Basics/*\n",
        "\n",
        "!chmod 777 \"/content/Basics\"\n",
        "!ls -ld \"/content/Basics\""
      ]
    },
    {
      "cell_type": "code",
      "source": [
        "!bash /content/Basics/01_if.sh"
      ],
      "metadata": {
        "collapsed": true,
        "id": "GxwR3UVz3U02"
      },
      "execution_count": null,
      "outputs": []
    },
    {
      "cell_type": "code",
      "source": [
        "!bash /content/Basics/02_loop.sh"
      ],
      "metadata": {
        "collapsed": true,
        "id": "no7cfk7-3WTH"
      },
      "execution_count": null,
      "outputs": []
    },
    {
      "cell_type": "code",
      "source": [
        "!bash /content/Basics/03_file.sh"
      ],
      "metadata": {
        "collapsed": true,
        "id": "xwlRfNmf3XuB"
      },
      "execution_count": null,
      "outputs": []
    },
    {
      "cell_type": "code",
      "source": [
        "!bash /content/Basics/04_input_output.sh\n",
        "\n",
        "!cat /content/Basics/04_op.log\n",
        "!cat /content/Basics/04_combined.log\n",
        "!cat /content/Basics/04_error.log"
      ],
      "metadata": {
        "collapsed": true,
        "id": "-baHysDMCqcg"
      },
      "execution_count": null,
      "outputs": []
    },
    {
      "cell_type": "code",
      "source": [
        "!bash /content/Basics/22_variables.sh"
      ],
      "metadata": {
        "collapsed": true,
        "id": "lXq0smE83ZJ6"
      },
      "execution_count": null,
      "outputs": []
    },
    {
      "cell_type": "code",
      "source": [
        "!bash /content/Basics/23_posargs.sh dog cat horse"
      ],
      "metadata": {
        "collapsed": true,
        "id": "qTGPmZpe3a7E"
      },
      "execution_count": null,
      "outputs": []
    },
    {
      "cell_type": "code",
      "source": [
        "!bash /content/Basics/24_array.sh"
      ],
      "metadata": {
        "collapsed": true,
        "id": "qRK1kFoL3cM9"
      },
      "execution_count": null,
      "outputs": []
    },
    {
      "cell_type": "code",
      "source": [
        "!bash /content/Basics/05_string.sh"
      ],
      "metadata": {
        "collapsed": true,
        "id": "iLy2lB1Si-cU"
      },
      "execution_count": null,
      "outputs": []
    },
    {
      "cell_type": "code",
      "source": [
        "!bash /content/Basics/25_readpipe.sh"
      ],
      "metadata": {
        "id": "0JgIJM5bjMdR"
      },
      "execution_count": null,
      "outputs": []
    },
    {
      "cell_type": "code",
      "source": [
        "!cat /etc/passwd |bash /content/Basics/25_readpipe.sh"
      ],
      "metadata": {
        "id": "WS3USqgvjy55"
      },
      "execution_count": null,
      "outputs": []
    },
    {
      "cell_type": "code",
      "source": [],
      "metadata": {
        "id": "suRzrvgSksC5"
      },
      "execution_count": null,
      "outputs": []
    }
  ]
}